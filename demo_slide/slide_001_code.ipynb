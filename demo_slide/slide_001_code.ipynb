{
 "cells": [
  {
   "cell_type": "markdown",
   "id": "24fb050c",
   "metadata": {},
   "source": [
    "# Tổng hợp Code Python, NumPy, Matplotlib và Pandas"
   ]
  },
  {
   "cell_type": "markdown",
   "id": "ae6adfb7",
   "metadata": {},
   "source": [
    "## PHẦN I: PYTHON CƠ BẢN"
   ]
  },
  {
   "cell_type": "markdown",
   "id": "c26dfdd9",
   "metadata": {},
   "source": [
    "### 1. Giải phương trình bậc 2"
   ]
  },
  {
   "cell_type": "code",
   "execution_count": 1,
   "id": "9ca4eacf",
   "metadata": {},
   "outputs": [
    {
     "name": "stdout",
     "output_type": "stream",
     "text": [
      "Phuong trinh vo nghiem\n"
     ]
    }
   ],
   "source": [
    "# Giải phương trình bậc 2: ax² + bx + c = 0\n",
    "a = float(input(\"A = \"))\n",
    "b = float(input(\"B = \"))\n",
    "c = float(input(\"C = \"))\n",
    "\n",
    "delta = b*b - 4*a*c\n",
    "\n",
    "if delta == 0:\n",
    "    print(\"Nghiem kep: x = \", str(-b/2/a))\n",
    "if delta < 0:\n",
    "    print(\"Phuong trinh vo nghiem\")\n",
    "if delta > 0:\n",
    "    print(\"X1 = \" + str((-b + delta**0.5)/2/a))\n",
    "    print(\"X2 = \" + str((-b - delta**0.5)/2/a))"
   ]
  },
  {
   "cell_type": "markdown",
   "id": "f6b59ac8",
   "metadata": {},
   "source": [
    "### 2. Số và Hệ cơ số"
   ]
  },
  {
   "cell_type": "code",
   "execution_count": 2,
   "id": "f2224ff2",
   "metadata": {},
   "outputs": [
    {
     "name": "stdout",
     "output_type": "stream",
     "text": [
      "Decimal: 1234\n",
      "Hex: 0x4d2\n",
      "Octal: 0o2322\n",
      "Binary: 0b10011010010\n"
     ]
    }
   ],
   "source": [
    "# Các hệ cơ số khác nhau\n",
    "A = 1234         # Hệ cơ số 10\n",
    "B = 0xAF1        # Hệ cơ số 16 (hexadecimal)\n",
    "C = 0o772        # Hệ cơ số 8 (octal)\n",
    "D = 0b1001       # Hệ cơ số 2 (binary)\n",
    "\n",
    "# Chuyển đổi sang string\n",
    "K = str(1234)    # Chuyển thành str ở hệ 10\n",
    "L = hex(1234)    # Chuyển thành str ở hệ 16\n",
    "M = oct(1234)    # Chuyển thành str ở hệ 8\n",
    "N = bin(1234)    # Chuyển thành str ở hệ 2\n",
    "\n",
    "print(f\"Decimal: {A}\")\n",
    "print(f\"Hex: {L}\")\n",
    "print(f\"Octal: {M}\")\n",
    "print(f\"Binary: {N}\")"
   ]
  },
  {
   "cell_type": "markdown",
   "id": "9b9361bc",
   "metadata": {},
   "source": [
    "### 3. Số phức và phép toán"
   ]
  },
  {
   "cell_type": "code",
   "execution_count": 3,
   "id": "be737eae",
   "metadata": {},
   "outputs": [
    {
     "name": "stdout",
     "output_type": "stream",
     "text": [
      "(5+2j)\n",
      "(14+2j)\n",
      "5.0\n"
     ]
    }
   ],
   "source": [
    "# Python hỗ trợ số phức với j là phần ảo\n",
    "A = 3 + 4j\n",
    "B = 2 - 2j\n",
    "\n",
    "print(A + B)     # (5+2j)\n",
    "print(A * B)     # (14-2j)\n",
    "print(abs(A))    # Module của số phức: 5.0\n",
    "\n",
    "# Số thực dạng khoa học\n",
    "X = 12.34\n",
    "Y = 314.15279e-2  # 3.1415279"
   ]
  },
  {
   "cell_type": "markdown",
   "id": "4e7cfef5",
   "metadata": {},
   "source": [
    "### 4. Phép toán cơ bản"
   ]
  }
 ],
 "metadata": {
  "kernelspec": {
   "display_name": "Python 3",
   "language": "python",
   "name": "python3"
  },
  "language_info": {
   "codemirror_mode": {
    "name": "ipython",
    "version": 3
   },
   "file_extension": ".py",
   "mimetype": "text/x-python",
   "name": "python",
   "nbconvert_exporter": "python",
   "pygments_lexer": "ipython3",
   "version": "3.12.10"
  }
 },
 "nbformat": 4,
 "nbformat_minor": 5
}
