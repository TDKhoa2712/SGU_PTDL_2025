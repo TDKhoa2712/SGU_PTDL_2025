{
  "nbformat": 4,
  "nbformat_minor": 0,
  "metadata": {
    "colab": {
      "provenance": [],
      "authorship_tag": "ABX9TyPgbgqccQDcTmXTV43jzG6h",
      "include_colab_link": true
    },
    "kernelspec": {
      "name": "python3",
      "display_name": "Python 3"
    },
    "language_info": {
      "name": "python"
    }
  },
  "cells": [
    {
      "cell_type": "markdown",
      "metadata": {
        "id": "view-in-github",
        "colab_type": "text"
      },
      "source": [
        "<a href=\"https://colab.research.google.com/github/TDKhoa2712/SGU_PTDL_2025/blob/main/slide_03_code.ipynb\" target=\"_parent\"><img src=\"https://colab.research.google.com/assets/colab-badge.svg\" alt=\"Open In Colab\"/></a>"
      ]
    },
    {
      "cell_type": "markdown",
      "source": [
        "#Tổng hợp Code Python Data Analysis và Visualization"
      ],
      "metadata": {
        "id": "OaxU6lK2yqLX"
      }
    },
    {
      "cell_type": "markdown",
      "source": [
        "##1. NUMPY - Numerical Python"
      ],
      "metadata": {
        "id": "cKT1P6hUzPL3"
      }
    },
    {
      "cell_type": "markdown",
      "source": [
        "###1.1. So sánh List thông thường vs NumPy Array"
      ],
      "metadata": {
        "id": "iRXjGOB9zXoZ"
      }
    },
    {
      "cell_type": "code",
      "source": [
        "#Python Data Structure\n",
        "fruits = [\"apple\", \"banana\", \"cherry\"] #lists []\n",
        "colors = (\"red\", \"green\", \"blue\") #tuples ()\n",
        "animals = {'cat', 'dog'} #sets {}\n",
        "person = {\"name\" : \"Tom\", \"age\" : 20} #dictionaries {}\n",
        "\n",
        "#List[]\n",
        "x = [60, 70, 80, 90]\n",
        "print(len(x))\n",
        "print(x[0])\n",
        "print(x[1])\n",
        "print(x[-1])"
      ],
      "metadata": {
        "colab": {
          "base_uri": "https://localhost:8080/"
        },
        "id": "j-uQm__Y3SFh",
        "outputId": "1d84d937-9594-4ab1-b1e8-81efdeadca50"
      },
      "execution_count": 5,
      "outputs": [
        {
          "output_type": "stream",
          "name": "stdout",
          "text": [
            "4\n",
            "60\n",
            "70\n",
            "90\n"
          ]
        }
      ]
    },
    {
      "cell_type": "code",
      "source": [
        "# Sử dụng list thông thường\n",
        "v = list(range(1, 6))\n",
        "print(v)          # Kết quả: [1, 2, 3, 4, 5]\n",
        "print(2 * v)      # Kết quả: [1, 2, 3, 4, 5, 1, 2, 3, 4, 5] (nhân đôi danh sách)\n",
        "\n",
        "# Sử dụng NumPy array\n",
        "import numpy as np\n",
        "v = np.arange(1, 6)\n",
        "print(v)          # Kết quả: [1 2 3 4 5]\n",
        "print(2 * v)      # Kết quả: [2 4 6 8 10] (nhân từng phần tử với 2)"
      ],
      "metadata": {
        "colab": {
          "base_uri": "https://localhost:8080/"
        },
        "id": "1_9MAZSLzagF",
        "outputId": "bfbf157a-e5d7-45d6-9deb-773a54eef530"
      },
      "execution_count": 1,
      "outputs": [
        {
          "output_type": "stream",
          "name": "stdout",
          "text": [
            "[1, 2, 3, 4, 5]\n",
            "[1, 2, 3, 4, 5, 1, 2, 3, 4, 5]\n",
            "[1 2 3 4 5]\n",
            "[ 2  4  6  8 10]\n"
          ]
        }
      ]
    },
    {
      "cell_type": "markdown",
      "source": [
        "#####Giải thích:"
      ],
      "metadata": {
        "id": "YrUypk8s0BnW"
      }
    },
    {
      "cell_type": "markdown",
      "source": [
        "* List thông thường: 2 * v tạo ra một list mới bằng cách lặp lại list gốc 2 lần\n",
        "* NumPy array: 2 * v thực hiện phép nhân vectorized, nhân từng phần tử với 2"
      ],
      "metadata": {
        "id": "Xp3xhmzY0DTi"
      }
    },
    {
      "cell_type": "markdown",
      "source": [
        "###1.2. Tạo và thao tác với NumPy Array"
      ],
      "metadata": {
        "id": "V84ly7J50Njp"
      }
    },
    {
      "cell_type": "code",
      "source": [
        "import numpy as np\n",
        "\n",
        "# Tạo array từ list\n",
        "a = np.array([1, 2, 3])\n",
        "print(a)\n",
        "b = np.array([4, 5, 6])\n",
        "print(b)\n",
        "c = a * b\n",
        "print(c)          # Kết quả: [4 10 18] (nhân từng cặp phần tử tương ứng)"
      ],
      "metadata": {
        "colab": {
          "base_uri": "https://localhost:8080/"
        },
        "id": "vGPPzrIF0R3W",
        "outputId": "2da347e6-162f-4864-e35e-eb6894f9aa9d"
      },
      "execution_count": 2,
      "outputs": [
        {
          "output_type": "stream",
          "name": "stdout",
          "text": [
            "[1 2 3]\n",
            "[4 5 6]\n",
            "[ 4 10 18]\n"
          ]
        }
      ]
    },
    {
      "cell_type": "markdown",
      "source": [
        "####Các phương thức tạo đặc biệt"
      ],
      "metadata": {
        "id": "FG4xIYYA4EbT"
      }
    },
    {
      "cell_type": "code",
      "source": [
        "import numpy as np\n",
        "\n",
        "#Khởi tạo một ma trận không\n",
        "a = np.zeros((2,2))\n",
        "print(a)\n",
        "\n",
        "#Khởi tạo một array toàn số 1\n",
        "b = np.ones((1,2))\n",
        "print(b)"
      ],
      "metadata": {
        "colab": {
          "base_uri": "https://localhost:8080/"
        },
        "id": "5cxL74vi4D0M",
        "outputId": "88487457-0cb2-4c3d-868b-865e9a4ad519"
      },
      "execution_count": 7,
      "outputs": [
        {
          "output_type": "stream",
          "name": "stdout",
          "text": [
            "[[0. 0.]\n",
            " [0. 0.]]\n",
            "[[1. 1.]]\n"
          ]
        }
      ]
    },
    {
      "cell_type": "markdown",
      "source": [
        "###1.3. Array đa chiều và thuộc tính"
      ],
      "metadata": {
        "id": "KxxEZ9kg0jls"
      }
    },
    {
      "cell_type": "code",
      "source": [
        "import numpy as np\n",
        "\n",
        "# Tạo array 2D với reshape\n",
        "a = np.arange(15).reshape(3, 5)\n",
        "print(a)\n",
        "# Kết quả:\n",
        "# [[ 0  1  2  3  4]\n",
        "#  [ 5  6  7  8  9]\n",
        "#  [10 11 12 13 14]]\n",
        "\n",
        "print(a.shape)      # Kết quả: (3, 5) - 3 hàng, 5 cột\n",
        "print(a.ndim)       # Kết quả: 2 - 2 chiều\n",
        "print(a.dtype.name) # Kết quả: 'int64' - kiểu dữ liệu"
      ],
      "metadata": {
        "id": "yeN3KLEz0k4z"
      },
      "execution_count": null,
      "outputs": []
    }
  ]
}