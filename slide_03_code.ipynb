{
  "cells": [
    {
      "cell_type": "markdown",
      "metadata": {
        "colab_type": "text",
        "id": "view-in-github"
      },
      "source": [
        "<a href=\"https://colab.research.google.com/github/TDKhoa2712/SGU_PTDL_2025/blob/main/slide_03_code.ipynb\" target=\"_parent\"><img src=\"https://colab.research.google.com/assets/colab-badge.svg\" alt=\"Open In Colab\"/></a>"
      ]
    },
    {
      "cell_type": "markdown",
      "metadata": {
        "id": "OaxU6lK2yqLX"
      },
      "source": [
        "#Tổng hợp Code Python Data Analysis và Visualization"
      ]
    },
    {
      "cell_type": "markdown",
      "metadata": {
        "id": "cKT1P6hUzPL3"
      },
      "source": [
        "##1. NUMPY - Numerical Python"
      ]
    },
    {
      "cell_type": "markdown",
      "metadata": {
        "id": "iRXjGOB9zXoZ"
      },
      "source": [
        "###1.1. So sánh List thông thường vs NumPy Array"
      ]
    },
    {
      "cell_type": "code",
      "execution_count": 5,
      "metadata": {
        "colab": {
          "base_uri": "https://localhost:8080/"
        },
        "id": "j-uQm__Y3SFh",
        "outputId": "1d84d937-9594-4ab1-b1e8-81efdeadca50"
      },
      "outputs": [
        {
          "name": "stdout",
          "output_type": "stream",
          "text": [
            "4\n",
            "60\n",
            "70\n",
            "90\n"
          ]
        }
      ],
      "source": [
        "#Python Data Structure\n",
        "fruits = [\"apple\", \"banana\", \"cherry\"] #lists []\n",
        "colors = (\"red\", \"green\", \"blue\") #tuples ()\n",
        "animals = {'cat', 'dog'} #sets {}\n",
        "person = {\"name\" : \"Tom\", \"age\" : 20} #dictionaries {}\n",
        "\n",
        "#List[]\n",
        "x = [60, 70, 80, 90]\n",
        "print(len(x))\n",
        "print(x[0])\n",
        "print(x[1])\n",
        "print(x[-1])"
      ]
    },
    {
      "cell_type": "code",
      "execution_count": 1,
      "metadata": {
        "colab": {
          "base_uri": "https://localhost:8080/"
        },
        "id": "1_9MAZSLzagF",
        "outputId": "bfbf157a-e5d7-45d6-9deb-773a54eef530"
      },
      "outputs": [
        {
          "name": "stdout",
          "output_type": "stream",
          "text": [
            "[1, 2, 3, 4, 5]\n",
            "[1, 2, 3, 4, 5, 1, 2, 3, 4, 5]\n",
            "[1 2 3 4 5]\n",
            "[ 2  4  6  8 10]\n"
          ]
        }
      ],
      "source": [
        "# Sử dụng list thông thường\n",
        "v = list(range(1, 6))\n",
        "print(v)          # Kết quả: [1, 2, 3, 4, 5]\n",
        "print(2 * v)      # Kết quả: [1, 2, 3, 4, 5, 1, 2, 3, 4, 5] (nhân đôi danh sách)\n",
        "\n",
        "# Sử dụng NumPy array\n",
        "import numpy as np\n",
        "v = np.arange(1, 6)\n",
        "print(v)          # Kết quả: [1 2 3 4 5]\n",
        "print(2 * v)      # Kết quả: [2 4 6 8 10] (nhân từng phần tử với 2)"
      ]
    },
    {
      "cell_type": "markdown",
      "metadata": {
        "id": "YrUypk8s0BnW"
      },
      "source": [
        "#####Giải thích:"
      ]
    },
    {
      "cell_type": "markdown",
      "metadata": {
        "id": "Xp3xhmzY0DTi"
      },
      "source": [
        "* List thông thường: 2 * v tạo ra một list mới bằng cách lặp lại list gốc 2 lần\n",
        "* NumPy array: 2 * v thực hiện phép nhân vectorized, nhân từng phần tử với 2"
      ]
    },
    {
      "cell_type": "markdown",
      "metadata": {
        "id": "V84ly7J50Njp"
      },
      "source": [
        "###1.2. Tạo và thao tác với NumPy Array"
      ]
    },
    {
      "cell_type": "code",
      "execution_count": 2,
      "metadata": {
        "colab": {
          "base_uri": "https://localhost:8080/"
        },
        "id": "vGPPzrIF0R3W",
        "outputId": "2da347e6-162f-4864-e35e-eb6894f9aa9d"
      },
      "outputs": [
        {
          "name": "stdout",
          "output_type": "stream",
          "text": [
            "[1 2 3]\n",
            "[4 5 6]\n",
            "[ 4 10 18]\n"
          ]
        }
      ],
      "source": [
        "import numpy as np\n",
        "\n",
        "# Tạo array từ list\n",
        "a = np.array([1, 2, 3])\n",
        "print(a)\n",
        "b = np.array([4, 5, 6])\n",
        "print(b)\n",
        "c = a * b\n",
        "print(c)          # Kết quả: [4 10 18] (nhân từng cặp phần tử tương ứng)"
      ]
    },
    {
      "cell_type": "markdown",
      "metadata": {
        "id": "FG4xIYYA4EbT"
      },
      "source": [
        "####Các phương thức tạo đặc biệt"
      ]
    },
    {
      "cell_type": "code",
      "execution_count": 1,
      "metadata": {
        "colab": {
          "base_uri": "https://localhost:8080/"
        },
        "id": "5cxL74vi4D0M",
        "outputId": "88487457-0cb2-4c3d-868b-865e9a4ad519"
      },
      "outputs": [
        {
          "name": "stdout",
          "output_type": "stream",
          "text": [
            "[[0. 0.]\n",
            " [0. 0.]]\n",
            "[[1. 1.]]\n",
            "[[7 7]\n",
            " [7 7]]\n",
            "[[1. 0.]\n",
            " [0. 1.]]\n",
            "[[0.64239653 0.31008764]\n",
            " [0.70656569 0.33805608]]\n"
          ]
        }
      ],
      "source": [
        "import numpy as np\n",
        "\n",
        "#Khởi tạo một ma trận không\n",
        "a = np.zeros((2,2))\n",
        "print(a)\n",
        "\n",
        "#Khởi tạo một array toàn số 1\n",
        "b = np.ones((1,2))\n",
        "print(b)\n",
        "\n",
        "#Khởi tạo một ma trận với giá trị được chỉ định\n",
        "c = np.full((2,2), 7)\n",
        "print(c)\n",
        "\n",
        "#Khởi tạo một ma trận đơn vị\n",
        "d = np.eye(2)\n",
        "print(d)\n",
        "\n",
        "#Khởi tạo một ma trận với các giá trị ngẫu nhiên\n",
        "e = np.random.random((2,2))\n",
        "print(e)"
      ]
    },
    {
      "cell_type": "markdown",
      "metadata": {
        "id": "KxxEZ9kg0jls"
      },
      "source": [
        "###1.3. Array đa chiều và thuộc tính"
      ]
    },
    {
      "cell_type": "code",
      "execution_count": null,
      "metadata": {
        "id": "yeN3KLEz0k4z"
      },
      "outputs": [],
      "source": [
        "import numpy as np\n",
        "\n",
        "# Tạo array 2D với reshape\n",
        "a = np.arange(15).reshape(3, 5)\n",
        "print(a)\n",
        "# Kết quả:\n",
        "# [[ 0  1  2  3  4]\n",
        "#  [ 5  6  7  8  9]\n",
        "#  [10 11 12 13 14]]\n",
        "\n",
        "print(a.shape)      # Kết quả: (3, 5) - 3 hàng, 5 cột\n",
        "print(a.ndim)       # Kết quả: 2 - 2 chiều\n",
        "print(a.dtype.name) # Kết quả: 'int64' - kiểu dữ liệu"
      ]
    }
  ],
  "metadata": {
    "colab": {
      "authorship_tag": "ABX9TyPgbgqccQDcTmXTV43jzG6h",
      "include_colab_link": true,
      "provenance": []
    },
    "kernelspec": {
      "display_name": "Python 3",
      "name": "python3"
    },
    "language_info": {
      "codemirror_mode": {
        "name": "ipython",
        "version": 3
      },
      "file_extension": ".py",
      "mimetype": "text/x-python",
      "name": "python",
      "nbconvert_exporter": "python",
      "pygments_lexer": "ipython3",
      "version": "3.12.10"
    }
  },
  "nbformat": 4,
  "nbformat_minor": 0
}
