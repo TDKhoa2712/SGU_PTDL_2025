{
 "cells": [
  {
   "cell_type": "markdown",
   "id": "5828e609",
   "metadata": {},
   "source": [
    "#“Thuc hanh tri tue nhan tao Buoi 1”"
   ]
  },
  {
   "cell_type": "markdown",
   "id": "b6da8842",
   "metadata": {},
   "source": [
    "##“Noi dung thuc hanh”"
   ]
  },
  {
   "cell_type": "markdown",
   "id": "36d79556",
   "metadata": {},
   "source": [
    "###In chu ra man hinh"
   ]
  },
  {
   "cell_type": "code",
   "execution_count": 1,
   "id": "b74cec55",
   "metadata": {},
   "outputs": [
    {
     "name": "stdout",
     "output_type": "stream",
     "text": [
      "Hello, Python World!\n"
     ]
    }
   ],
   "source": [
    "# lenh 1 - xuat chu\n",
    "print(\"Hello, Python World!\")"
   ]
  },
  {
   "cell_type": "markdown",
   "id": "1090dc75",
   "metadata": {},
   "source": [
    "###Tính toán đơn giản"
   ]
  },
  {
   "cell_type": "code",
   "execution_count": 4,
   "id": "a2952854",
   "metadata": {},
   "outputs": [
    {
     "ename": "SyntaxError",
     "evalue": "invalid character '“' (U+201C) (ex1_calc.py, line 2)",
     "output_type": "error",
     "traceback": [
      "  \u001b[36mFile \u001b[39m\u001b[32m/workspaces/SGU_PTDL_2025/exercises/lap1/ex1_calc.py:2\u001b[39m\n\u001b[31m    \u001b[39m\u001b[31ma = int(input(“Moi ban nhap so a: “))\u001b[39m\n                  ^\n\u001b[31mSyntaxError\u001b[39m\u001b[31m:\u001b[39m invalid character '“' (U+201C)\n"
     ]
    }
   ],
   "source": [
    "%run ex1_calc.py"
   ]
  },
  {
   "cell_type": "markdown",
   "id": "f7984130",
   "metadata": {},
   "source": [
    "###Tính chu vi và diện tích hình tròn"
   ]
  },
  {
   "cell_type": "code",
   "execution_count": null,
   "id": "553a8bff",
   "metadata": {},
   "outputs": [],
   "source": [
    "%run ex3_circle.py"
   ]
  }
 ],
 "metadata": {
  "kernelspec": {
   "display_name": "Python 3",
   "language": "python",
   "name": "python3"
  },
  "language_info": {
   "codemirror_mode": {
    "name": "ipython",
    "version": 3
   },
   "file_extension": ".py",
   "mimetype": "text/x-python",
   "name": "python",
   "nbconvert_exporter": "python",
   "pygments_lexer": "ipython3",
   "version": "3.12.1"
  }
 },
 "nbformat": 4,
 "nbformat_minor": 5
}
